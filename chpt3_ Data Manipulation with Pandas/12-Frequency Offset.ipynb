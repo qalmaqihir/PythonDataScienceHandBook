{
 "cells": [
  {
   "cell_type": "markdown",
   "id": "174e9d4e",
   "metadata": {},
   "source": [
    "# Frequencies and Offsets\n",
    "Fundamental to these Pandas time series tools is the concept of a frequency or date\n",
    "offset. Just as we saw the D (day) and H (hour) codes previously, we can use such codes\n",
    "to specify any desired frequency spacing.  \n",
    "\n",
    "\n",
    "|Code| Description|  \n",
    "|-----|-----------|\n",
    "|MS|Month start|\n",
    "|BMS|Business month start|  \n",
    "|QS|Quarter start|  \n",
    "|BQS|Business quarter start|  \n",
    "|AS|Year start|   \n",
    "|BAS|Business year start|\n",
    "\n",
    "\n",
    "|Code| Description| Code| Description|  \n",
    "|----|-------------|------|------------|  \n",
    "|D   |Calendar day | B   |Business day|\n",
    "|W| Weekly|  \n",
    "|M| Month end       |BM | Business month end|  \n",
    "|Q| Quarter end     |BQ | Business quarter end|  \n",
    "|A| Year end        |BA|Business year end|  \n",
    "|H| Hours           |BH|Business hours|  \n",
    "|T| Minutes|  \n",
    "|S| Seconds|  \n",
    "|L| Milliseonds|  \n",
    "|U| Microseconds|  \n",
    "|N| Nanoseconds|  \n",
    "\n",
    "\n",
    "\n",
    "__Additionally, you can change the month used to mark any quarterly or annual code by adding a three-letter month code as a suffix:  \n",
    "• Q-JAN, BQ-FEB, QS-MAR, BQS-APR, etc.  \n",
    "• A-JAN, BA-FEB, AS-MAR, BAS-APR, etc.__  \n",
    "__In the same way, you can modify the split-point of the weekly frequency by adding a\n",
    "three-letter weekday code:  \n",
    "• W-SUN, W-MON, W-TUE, W-WED, etc.__  \n",
    "\n",
    "On top of this, codes can be combined with numbers to specify other frequencies. For\n",
    "example, for a frequency of 2 hours 30 minutes, we can combine the hour (H) and\n",
    "minute (T) codes as follows:"
   ]
  },
  {
   "cell_type": "code",
   "execution_count": 1,
   "id": "87913052",
   "metadata": {},
   "outputs": [],
   "source": [
    "import pandas as pd\n"
   ]
  },
  {
   "cell_type": "code",
   "execution_count": 2,
   "id": "686efa1e",
   "metadata": {},
   "outputs": [
    {
     "data": {
      "text/plain": [
       "TimedeltaIndex(['0 days 00:00:00', '0 days 02:30:00', '0 days 05:00:00',\n",
       "                '0 days 07:30:00', '0 days 10:00:00', '0 days 12:30:00',\n",
       "                '0 days 15:00:00', '0 days 17:30:00', '0 days 20:00:00'],\n",
       "               dtype='timedelta64[ns]', freq='150T')"
      ]
     },
     "execution_count": 2,
     "metadata": {},
     "output_type": "execute_result"
    }
   ],
   "source": [
    "pd.timedelta_range(0,periods=9, freq='2H30T')"
   ]
  },
  {
   "cell_type": "markdown",
   "id": "e24f34e1",
   "metadata": {},
   "source": [
    "All of these short codes refer to specific instances of Pandas time series offsets, which\n",
    "can be found in the pd.tseries.offsets module. For example, we can create a busi‐\n",
    "ness day offset directly as follows:"
   ]
  },
  {
   "cell_type": "code",
   "execution_count": 7,
   "id": "e4be5abc",
   "metadata": {},
   "outputs": [
    {
     "data": {
      "text/plain": [
       "DatetimeIndex(['2022-07-28', '2022-07-29', '2022-08-01', '2022-08-02',\n",
       "               '2022-08-03'],\n",
       "              dtype='datetime64[ns]', freq='B')"
      ]
     },
     "execution_count": 7,
     "metadata": {},
     "output_type": "execute_result"
    }
   ],
   "source": [
    "from pandas.tseries.offsets  import BDay\n",
    "pd.date_range('2022-07-28', periods=5, freq=BDay())"
   ]
  },
  {
   "cell_type": "code",
   "execution_count": null,
   "id": "88ac2458",
   "metadata": {},
   "outputs": [],
   "source": []
  }
 ],
 "metadata": {
  "kernelspec": {
   "display_name": "Python 3 (ipykernel)",
   "language": "python",
   "name": "python3"
  },
  "language_info": {
   "codemirror_mode": {
    "name": "ipython",
    "version": 3
   },
   "file_extension": ".py",
   "mimetype": "text/x-python",
   "name": "python",
   "nbconvert_exporter": "python",
   "pygments_lexer": "ipython3",
   "version": "3.9.12"
  }
 },
 "nbformat": 4,
 "nbformat_minor": 5
}
