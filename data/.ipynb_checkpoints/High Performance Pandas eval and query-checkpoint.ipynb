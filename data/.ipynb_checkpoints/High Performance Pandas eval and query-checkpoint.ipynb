{
 "cells": [
  {
   "cell_type": "markdown",
   "id": "35b6f569",
   "metadata": {},
   "source": [
    "# High-Performance Pandas: eval() and query()\n",
    "As we’ve already seen in previous chapters, the power of the PyData stack is built\n",
    "upon the ability of NumPy and Pandas to push basic operations into C via an intu‐\n",
    "itive syntax: examples are vectorized/broadcasted operations in NumPy, and\n",
    "grouping-type operations in Pandas. While these abstractions are efficient and effecvtive for many common use cases, they often rely on the creation of temporary inter‐\n",
    "mediate objects, which can cause undue overhead in computational time and\n",
    "memory use."
   ]
  },
  {
   "cell_type": "markdown",
   "id": "ef4be633",
   "metadata": {},
   "source": [
    "## Motivating query() and eval(): Compound Expressions\n",
    "We’ve seen previously that NumPy and Pandas support fast vectorized operations; for\n",
    "example, when you are adding the elements of two arrays:"
   ]
  },
  {
   "cell_type": "code",
   "execution_count": 3,
   "id": "4ef50826",
   "metadata": {},
   "outputs": [
    {
     "name": "stdout",
     "output_type": "stream",
     "text": [
      "385 ns ± 4.2 ns per loop (mean ± std. dev. of 7 runs, 1,000,000 loops each)\n"
     ]
    }
   ],
   "source": [
    "import numpy as np\n",
    "rng=np.random.RandomState(42)\n",
    "x=rng.rand(16)\n",
    "y=rng.rand(16)\n",
    "%timeit x+y"
   ]
  },
  {
   "cell_type": "code",
   "execution_count": 4,
   "id": "735e49c9",
   "metadata": {},
   "outputs": [
    {
     "name": "stdout",
     "output_type": "stream",
     "text": [
      "3.96 µs ± 650 ns per loop (mean ± std. dev. of 7 runs, 100,000 loops each)\n"
     ]
    }
   ],
   "source": [
    "# it is much faster than doing the addition via python loop or list comprehension\n",
    "%timeit np.fromiter((xi + yi for xi,yi in zip(x,y)),dtype=x.dtype, count=len(x))\n"
   ]
  },
  {
   "cell_type": "code",
   "execution_count": 5,
   "id": "dd9a6362",
   "metadata": {},
   "outputs": [],
   "source": [
    "# But this abstraction can become less efficient when you are computing compound expressions.\n",
    "mask = (x>0.5)& (y<0.5)"
   ]
  },
  {
   "cell_type": "code",
   "execution_count": 6,
   "id": "e6076d88",
   "metadata": {},
   "outputs": [],
   "source": [
    "# mask is roughly doing the following\n",
    "temp1=(x>0.5)\n",
    "temp2=(y<0.5)\n",
    "mask=temp1 & temp2"
   ]
  },
  {
   "cell_type": "markdown",
   "id": "a1b14476",
   "metadata": {},
   "source": [
    "*In other words, every intermediate step is explicitly allocated in memory. If the x and y\n",
    "arrays are very large, this can lead to significant memory and computational over‐\n",
    "head. The Numexpr library gives you the ability to compute this type of compound\n",
    "expression element by element, without the need to allocate full intermediate arrays.*"
   ]
  },
  {
   "cell_type": "code",
   "execution_count": 8,
   "id": "9880ec5b",
   "metadata": {},
   "outputs": [
    {
     "data": {
      "text/plain": [
       "True"
      ]
     },
     "execution_count": 8,
     "metadata": {},
     "output_type": "execute_result"
    }
   ],
   "source": [
    "import numexpr\n",
    "mask_numexpr = numexpr.evaluate('(x > 0.5) & (y < 0.5)')\n",
    "np.allclose(mask, mask_numexpr)"
   ]
  },
  {
   "cell_type": "markdown",
   "id": "eab1c21c",
   "metadata": {},
   "source": [
    "**The benefit here is that Numexpr evaluates the expression in a way that does not use\n",
    "full-sized temporary arrays, and thus can be much more efficient than NumPy, espe‐\n",
    "cially for large arrays. The Pandas eval() and query() tools that we will discuss here\n",
    "are conceptually similar, and depend on the Numexpr package.**"
   ]
  },
  {
   "cell_type": "markdown",
   "id": "4ca46320",
   "metadata": {},
   "source": [
    "<hr>\n",
    "\n",
    "# pandas.eval() for Efficient Operations\n",
    "The eval() function in Pandas uses string expressions to efficiently compute opera‐\n",
    "tions using DataFrames. For example, consider the following DataFrames:"
   ]
  },
  {
   "cell_type": "code",
   "execution_count": 9,
   "id": "56178a1b",
   "metadata": {},
   "outputs": [],
   "source": [
    "import pandas as pd\n"
   ]
  },
  {
   "cell_type": "code",
   "execution_count": 10,
   "id": "e67b309a",
   "metadata": {},
   "outputs": [],
   "source": [
    "nrows,ncols=100000,100\n",
    "rng=np.random.RandomState(42)\n",
    "df1, df2,df3,df4=(pd.DataFrame(rng.rand(nrows,ncols)) for i in range(4))"
   ]
  },
  {
   "cell_type": "code",
   "execution_count": 11,
   "id": "da53bc44",
   "metadata": {},
   "outputs": [
    {
     "data": {
      "text/html": [
       "<div>\n",
       "<style scoped>\n",
       "    .dataframe tbody tr th:only-of-type {\n",
       "        vertical-align: middle;\n",
       "    }\n",
       "\n",
       "    .dataframe tbody tr th {\n",
       "        vertical-align: top;\n",
       "    }\n",
       "\n",
       "    .dataframe thead th {\n",
       "        text-align: right;\n",
       "    }\n",
       "</style>\n",
       "<table border=\"1\" class=\"dataframe\">\n",
       "  <thead>\n",
       "    <tr style=\"text-align: right;\">\n",
       "      <th></th>\n",
       "      <th>0</th>\n",
       "      <th>1</th>\n",
       "      <th>2</th>\n",
       "      <th>3</th>\n",
       "      <th>4</th>\n",
       "      <th>5</th>\n",
       "      <th>6</th>\n",
       "      <th>7</th>\n",
       "      <th>8</th>\n",
       "      <th>9</th>\n",
       "      <th>...</th>\n",
       "      <th>90</th>\n",
       "      <th>91</th>\n",
       "      <th>92</th>\n",
       "      <th>93</th>\n",
       "      <th>94</th>\n",
       "      <th>95</th>\n",
       "      <th>96</th>\n",
       "      <th>97</th>\n",
       "      <th>98</th>\n",
       "      <th>99</th>\n",
       "    </tr>\n",
       "  </thead>\n",
       "  <tbody>\n",
       "    <tr>\n",
       "      <th>0</th>\n",
       "      <td>0.374540</td>\n",
       "      <td>0.950714</td>\n",
       "      <td>0.731994</td>\n",
       "      <td>0.598658</td>\n",
       "      <td>0.156019</td>\n",
       "      <td>0.155995</td>\n",
       "      <td>0.058084</td>\n",
       "      <td>0.866176</td>\n",
       "      <td>0.601115</td>\n",
       "      <td>0.708073</td>\n",
       "      <td>...</td>\n",
       "      <td>0.119594</td>\n",
       "      <td>0.713245</td>\n",
       "      <td>0.760785</td>\n",
       "      <td>0.561277</td>\n",
       "      <td>0.770967</td>\n",
       "      <td>0.493796</td>\n",
       "      <td>0.522733</td>\n",
       "      <td>0.427541</td>\n",
       "      <td>0.025419</td>\n",
       "      <td>0.107891</td>\n",
       "    </tr>\n",
       "    <tr>\n",
       "      <th>1</th>\n",
       "      <td>0.031429</td>\n",
       "      <td>0.636410</td>\n",
       "      <td>0.314356</td>\n",
       "      <td>0.508571</td>\n",
       "      <td>0.907566</td>\n",
       "      <td>0.249292</td>\n",
       "      <td>0.410383</td>\n",
       "      <td>0.755551</td>\n",
       "      <td>0.228798</td>\n",
       "      <td>0.076980</td>\n",
       "      <td>...</td>\n",
       "      <td>0.093103</td>\n",
       "      <td>0.897216</td>\n",
       "      <td>0.900418</td>\n",
       "      <td>0.633101</td>\n",
       "      <td>0.339030</td>\n",
       "      <td>0.349210</td>\n",
       "      <td>0.725956</td>\n",
       "      <td>0.897110</td>\n",
       "      <td>0.887086</td>\n",
       "      <td>0.779876</td>\n",
       "    </tr>\n",
       "    <tr>\n",
       "      <th>2</th>\n",
       "      <td>0.642032</td>\n",
       "      <td>0.084140</td>\n",
       "      <td>0.161629</td>\n",
       "      <td>0.898554</td>\n",
       "      <td>0.606429</td>\n",
       "      <td>0.009197</td>\n",
       "      <td>0.101472</td>\n",
       "      <td>0.663502</td>\n",
       "      <td>0.005062</td>\n",
       "      <td>0.160808</td>\n",
       "      <td>...</td>\n",
       "      <td>0.030500</td>\n",
       "      <td>0.037348</td>\n",
       "      <td>0.822601</td>\n",
       "      <td>0.360191</td>\n",
       "      <td>0.127061</td>\n",
       "      <td>0.522243</td>\n",
       "      <td>0.769994</td>\n",
       "      <td>0.215821</td>\n",
       "      <td>0.622890</td>\n",
       "      <td>0.085347</td>\n",
       "    </tr>\n",
       "    <tr>\n",
       "      <th>3</th>\n",
       "      <td>0.051682</td>\n",
       "      <td>0.531355</td>\n",
       "      <td>0.540635</td>\n",
       "      <td>0.637430</td>\n",
       "      <td>0.726091</td>\n",
       "      <td>0.975852</td>\n",
       "      <td>0.516300</td>\n",
       "      <td>0.322956</td>\n",
       "      <td>0.795186</td>\n",
       "      <td>0.270832</td>\n",
       "      <td>...</td>\n",
       "      <td>0.990505</td>\n",
       "      <td>0.412618</td>\n",
       "      <td>0.372018</td>\n",
       "      <td>0.776413</td>\n",
       "      <td>0.340804</td>\n",
       "      <td>0.930757</td>\n",
       "      <td>0.858413</td>\n",
       "      <td>0.428994</td>\n",
       "      <td>0.750871</td>\n",
       "      <td>0.754543</td>\n",
       "    </tr>\n",
       "    <tr>\n",
       "      <th>4</th>\n",
       "      <td>0.103124</td>\n",
       "      <td>0.902553</td>\n",
       "      <td>0.505252</td>\n",
       "      <td>0.826457</td>\n",
       "      <td>0.320050</td>\n",
       "      <td>0.895523</td>\n",
       "      <td>0.389202</td>\n",
       "      <td>0.010838</td>\n",
       "      <td>0.905382</td>\n",
       "      <td>0.091287</td>\n",
       "      <td>...</td>\n",
       "      <td>0.455657</td>\n",
       "      <td>0.620133</td>\n",
       "      <td>0.277381</td>\n",
       "      <td>0.188121</td>\n",
       "      <td>0.463698</td>\n",
       "      <td>0.353352</td>\n",
       "      <td>0.583656</td>\n",
       "      <td>0.077735</td>\n",
       "      <td>0.974395</td>\n",
       "      <td>0.986211</td>\n",
       "    </tr>\n",
       "    <tr>\n",
       "      <th>...</th>\n",
       "      <td>...</td>\n",
       "      <td>...</td>\n",
       "      <td>...</td>\n",
       "      <td>...</td>\n",
       "      <td>...</td>\n",
       "      <td>...</td>\n",
       "      <td>...</td>\n",
       "      <td>...</td>\n",
       "      <td>...</td>\n",
       "      <td>...</td>\n",
       "      <td>...</td>\n",
       "      <td>...</td>\n",
       "      <td>...</td>\n",
       "      <td>...</td>\n",
       "      <td>...</td>\n",
       "      <td>...</td>\n",
       "      <td>...</td>\n",
       "      <td>...</td>\n",
       "      <td>...</td>\n",
       "      <td>...</td>\n",
       "      <td>...</td>\n",
       "    </tr>\n",
       "    <tr>\n",
       "      <th>99995</th>\n",
       "      <td>0.071979</td>\n",
       "      <td>0.439323</td>\n",
       "      <td>0.188588</td>\n",
       "      <td>0.586705</td>\n",
       "      <td>0.640611</td>\n",
       "      <td>0.662409</td>\n",
       "      <td>0.318503</td>\n",
       "      <td>0.600419</td>\n",
       "      <td>0.609742</td>\n",
       "      <td>0.390592</td>\n",
       "      <td>...</td>\n",
       "      <td>0.122887</td>\n",
       "      <td>0.491140</td>\n",
       "      <td>0.032855</td>\n",
       "      <td>0.567250</td>\n",
       "      <td>0.428673</td>\n",
       "      <td>0.421092</td>\n",
       "      <td>0.021024</td>\n",
       "      <td>0.398596</td>\n",
       "      <td>0.405897</td>\n",
       "      <td>0.869783</td>\n",
       "    </tr>\n",
       "    <tr>\n",
       "      <th>99996</th>\n",
       "      <td>0.313411</td>\n",
       "      <td>0.010490</td>\n",
       "      <td>0.469216</td>\n",
       "      <td>0.600825</td>\n",
       "      <td>0.451085</td>\n",
       "      <td>0.496918</td>\n",
       "      <td>0.983128</td>\n",
       "      <td>0.422056</td>\n",
       "      <td>0.719077</td>\n",
       "      <td>0.045588</td>\n",
       "      <td>...</td>\n",
       "      <td>0.072444</td>\n",
       "      <td>0.715574</td>\n",
       "      <td>0.300257</td>\n",
       "      <td>0.087290</td>\n",
       "      <td>0.130703</td>\n",
       "      <td>0.549202</td>\n",
       "      <td>0.287877</td>\n",
       "      <td>0.589258</td>\n",
       "      <td>0.516884</td>\n",
       "      <td>0.254370</td>\n",
       "    </tr>\n",
       "    <tr>\n",
       "      <th>99997</th>\n",
       "      <td>0.560873</td>\n",
       "      <td>0.647396</td>\n",
       "      <td>0.043068</td>\n",
       "      <td>0.282439</td>\n",
       "      <td>0.042950</td>\n",
       "      <td>0.346690</td>\n",
       "      <td>0.954034</td>\n",
       "      <td>0.603182</td>\n",
       "      <td>0.447768</td>\n",
       "      <td>0.888498</td>\n",
       "      <td>...</td>\n",
       "      <td>0.880079</td>\n",
       "      <td>0.508377</td>\n",
       "      <td>0.442052</td>\n",
       "      <td>0.621332</td>\n",
       "      <td>0.314942</td>\n",
       "      <td>0.131085</td>\n",
       "      <td>0.697310</td>\n",
       "      <td>0.111705</td>\n",
       "      <td>0.397560</td>\n",
       "      <td>0.988347</td>\n",
       "    </tr>\n",
       "    <tr>\n",
       "      <th>99998</th>\n",
       "      <td>0.710115</td>\n",
       "      <td>0.067999</td>\n",
       "      <td>0.611329</td>\n",
       "      <td>0.136199</td>\n",
       "      <td>0.054724</td>\n",
       "      <td>0.018160</td>\n",
       "      <td>0.911428</td>\n",
       "      <td>0.762005</td>\n",
       "      <td>0.245312</td>\n",
       "      <td>0.891027</td>\n",
       "      <td>...</td>\n",
       "      <td>0.249632</td>\n",
       "      <td>0.894231</td>\n",
       "      <td>0.342761</td>\n",
       "      <td>0.844330</td>\n",
       "      <td>0.659797</td>\n",
       "      <td>0.835561</td>\n",
       "      <td>0.117920</td>\n",
       "      <td>0.211202</td>\n",
       "      <td>0.931760</td>\n",
       "      <td>0.296913</td>\n",
       "    </tr>\n",
       "    <tr>\n",
       "      <th>99999</th>\n",
       "      <td>0.116834</td>\n",
       "      <td>0.461155</td>\n",
       "      <td>0.754556</td>\n",
       "      <td>0.250272</td>\n",
       "      <td>0.864631</td>\n",
       "      <td>0.588966</td>\n",
       "      <td>0.358260</td>\n",
       "      <td>0.655541</td>\n",
       "      <td>0.946702</td>\n",
       "      <td>0.145819</td>\n",
       "      <td>...</td>\n",
       "      <td>0.298095</td>\n",
       "      <td>0.496018</td>\n",
       "      <td>0.990856</td>\n",
       "      <td>0.368719</td>\n",
       "      <td>0.837910</td>\n",
       "      <td>0.244971</td>\n",
       "      <td>0.061637</td>\n",
       "      <td>0.933295</td>\n",
       "      <td>0.245149</td>\n",
       "      <td>0.388890</td>\n",
       "    </tr>\n",
       "  </tbody>\n",
       "</table>\n",
       "<p>100000 rows × 100 columns</p>\n",
       "</div>"
      ],
      "text/plain": [
       "             0         1         2         3         4         5         6   \\\n",
       "0      0.374540  0.950714  0.731994  0.598658  0.156019  0.155995  0.058084   \n",
       "1      0.031429  0.636410  0.314356  0.508571  0.907566  0.249292  0.410383   \n",
       "2      0.642032  0.084140  0.161629  0.898554  0.606429  0.009197  0.101472   \n",
       "3      0.051682  0.531355  0.540635  0.637430  0.726091  0.975852  0.516300   \n",
       "4      0.103124  0.902553  0.505252  0.826457  0.320050  0.895523  0.389202   \n",
       "...         ...       ...       ...       ...       ...       ...       ...   \n",
       "99995  0.071979  0.439323  0.188588  0.586705  0.640611  0.662409  0.318503   \n",
       "99996  0.313411  0.010490  0.469216  0.600825  0.451085  0.496918  0.983128   \n",
       "99997  0.560873  0.647396  0.043068  0.282439  0.042950  0.346690  0.954034   \n",
       "99998  0.710115  0.067999  0.611329  0.136199  0.054724  0.018160  0.911428   \n",
       "99999  0.116834  0.461155  0.754556  0.250272  0.864631  0.588966  0.358260   \n",
       "\n",
       "             7         8         9   ...        90        91        92  \\\n",
       "0      0.866176  0.601115  0.708073  ...  0.119594  0.713245  0.760785   \n",
       "1      0.755551  0.228798  0.076980  ...  0.093103  0.897216  0.900418   \n",
       "2      0.663502  0.005062  0.160808  ...  0.030500  0.037348  0.822601   \n",
       "3      0.322956  0.795186  0.270832  ...  0.990505  0.412618  0.372018   \n",
       "4      0.010838  0.905382  0.091287  ...  0.455657  0.620133  0.277381   \n",
       "...         ...       ...       ...  ...       ...       ...       ...   \n",
       "99995  0.600419  0.609742  0.390592  ...  0.122887  0.491140  0.032855   \n",
       "99996  0.422056  0.719077  0.045588  ...  0.072444  0.715574  0.300257   \n",
       "99997  0.603182  0.447768  0.888498  ...  0.880079  0.508377  0.442052   \n",
       "99998  0.762005  0.245312  0.891027  ...  0.249632  0.894231  0.342761   \n",
       "99999  0.655541  0.946702  0.145819  ...  0.298095  0.496018  0.990856   \n",
       "\n",
       "             93        94        95        96        97        98        99  \n",
       "0      0.561277  0.770967  0.493796  0.522733  0.427541  0.025419  0.107891  \n",
       "1      0.633101  0.339030  0.349210  0.725956  0.897110  0.887086  0.779876  \n",
       "2      0.360191  0.127061  0.522243  0.769994  0.215821  0.622890  0.085347  \n",
       "3      0.776413  0.340804  0.930757  0.858413  0.428994  0.750871  0.754543  \n",
       "4      0.188121  0.463698  0.353352  0.583656  0.077735  0.974395  0.986211  \n",
       "...         ...       ...       ...       ...       ...       ...       ...  \n",
       "99995  0.567250  0.428673  0.421092  0.021024  0.398596  0.405897  0.869783  \n",
       "99996  0.087290  0.130703  0.549202  0.287877  0.589258  0.516884  0.254370  \n",
       "99997  0.621332  0.314942  0.131085  0.697310  0.111705  0.397560  0.988347  \n",
       "99998  0.844330  0.659797  0.835561  0.117920  0.211202  0.931760  0.296913  \n",
       "99999  0.368719  0.837910  0.244971  0.061637  0.933295  0.245149  0.388890  \n",
       "\n",
       "[100000 rows x 100 columns]"
      ]
     },
     "execution_count": 11,
     "metadata": {},
     "output_type": "execute_result"
    }
   ],
   "source": [
    "df1"
   ]
  },
  {
   "cell_type": "code",
   "execution_count": 12,
   "id": "91e4ef01",
   "metadata": {},
   "outputs": [
    {
     "data": {
      "text/html": [
       "<div>\n",
       "<style scoped>\n",
       "    .dataframe tbody tr th:only-of-type {\n",
       "        vertical-align: middle;\n",
       "    }\n",
       "\n",
       "    .dataframe tbody tr th {\n",
       "        vertical-align: top;\n",
       "    }\n",
       "\n",
       "    .dataframe thead th {\n",
       "        text-align: right;\n",
       "    }\n",
       "</style>\n",
       "<table border=\"1\" class=\"dataframe\">\n",
       "  <thead>\n",
       "    <tr style=\"text-align: right;\">\n",
       "      <th></th>\n",
       "      <th>0</th>\n",
       "      <th>1</th>\n",
       "      <th>2</th>\n",
       "      <th>3</th>\n",
       "      <th>4</th>\n",
       "      <th>5</th>\n",
       "      <th>6</th>\n",
       "      <th>7</th>\n",
       "      <th>8</th>\n",
       "      <th>9</th>\n",
       "      <th>...</th>\n",
       "      <th>90</th>\n",
       "      <th>91</th>\n",
       "      <th>92</th>\n",
       "      <th>93</th>\n",
       "      <th>94</th>\n",
       "      <th>95</th>\n",
       "      <th>96</th>\n",
       "      <th>97</th>\n",
       "      <th>98</th>\n",
       "      <th>99</th>\n",
       "    </tr>\n",
       "  </thead>\n",
       "  <tbody>\n",
       "    <tr>\n",
       "      <th>0</th>\n",
       "      <td>0.926538</td>\n",
       "      <td>0.382461</td>\n",
       "      <td>0.871469</td>\n",
       "      <td>0.761471</td>\n",
       "      <td>0.328826</td>\n",
       "      <td>0.988821</td>\n",
       "      <td>0.120738</td>\n",
       "      <td>0.358905</td>\n",
       "      <td>0.954462</td>\n",
       "      <td>0.004711</td>\n",
       "      <td>...</td>\n",
       "      <td>0.310465</td>\n",
       "      <td>0.816988</td>\n",
       "      <td>0.930747</td>\n",
       "      <td>0.111477</td>\n",
       "      <td>0.772517</td>\n",
       "      <td>0.801181</td>\n",
       "      <td>0.466825</td>\n",
       "      <td>0.005912</td>\n",
       "      <td>0.705110</td>\n",
       "      <td>0.487674</td>\n",
       "    </tr>\n",
       "    <tr>\n",
       "      <th>1</th>\n",
       "      <td>0.715167</td>\n",
       "      <td>0.490948</td>\n",
       "      <td>0.904532</td>\n",
       "      <td>0.319521</td>\n",
       "      <td>0.582585</td>\n",
       "      <td>0.980330</td>\n",
       "      <td>0.019068</td>\n",
       "      <td>0.089363</td>\n",
       "      <td>0.281105</td>\n",
       "      <td>0.143648</td>\n",
       "      <td>...</td>\n",
       "      <td>0.433028</td>\n",
       "      <td>0.132540</td>\n",
       "      <td>0.263659</td>\n",
       "      <td>0.339079</td>\n",
       "      <td>0.234842</td>\n",
       "      <td>0.507921</td>\n",
       "      <td>0.544545</td>\n",
       "      <td>0.197424</td>\n",
       "      <td>0.432392</td>\n",
       "      <td>0.218104</td>\n",
       "    </tr>\n",
       "    <tr>\n",
       "      <th>2</th>\n",
       "      <td>0.975796</td>\n",
       "      <td>0.049902</td>\n",
       "      <td>0.092684</td>\n",
       "      <td>0.158453</td>\n",
       "      <td>0.858309</td>\n",
       "      <td>0.652550</td>\n",
       "      <td>0.681106</td>\n",
       "      <td>0.360168</td>\n",
       "      <td>0.843117</td>\n",
       "      <td>0.619341</td>\n",
       "      <td>...</td>\n",
       "      <td>0.156821</td>\n",
       "      <td>0.772316</td>\n",
       "      <td>0.412088</td>\n",
       "      <td>0.796167</td>\n",
       "      <td>0.548580</td>\n",
       "      <td>0.722526</td>\n",
       "      <td>0.141587</td>\n",
       "      <td>0.459266</td>\n",
       "      <td>0.128221</td>\n",
       "      <td>0.661666</td>\n",
       "    </tr>\n",
       "    <tr>\n",
       "      <th>3</th>\n",
       "      <td>0.369458</td>\n",
       "      <td>0.911366</td>\n",
       "      <td>0.892686</td>\n",
       "      <td>0.763454</td>\n",
       "      <td>0.581681</td>\n",
       "      <td>0.207756</td>\n",
       "      <td>0.024249</td>\n",
       "      <td>0.925860</td>\n",
       "      <td>0.191849</td>\n",
       "      <td>0.047043</td>\n",
       "      <td>...</td>\n",
       "      <td>0.313598</td>\n",
       "      <td>0.566552</td>\n",
       "      <td>0.844425</td>\n",
       "      <td>0.079068</td>\n",
       "      <td>0.338430</td>\n",
       "      <td>0.921877</td>\n",
       "      <td>0.856621</td>\n",
       "      <td>0.285027</td>\n",
       "      <td>0.505441</td>\n",
       "      <td>0.571166</td>\n",
       "    </tr>\n",
       "    <tr>\n",
       "      <th>4</th>\n",
       "      <td>0.794953</td>\n",
       "      <td>0.714644</td>\n",
       "      <td>0.652743</td>\n",
       "      <td>0.639999</td>\n",
       "      <td>0.801813</td>\n",
       "      <td>0.223324</td>\n",
       "      <td>0.468607</td>\n",
       "      <td>0.409739</td>\n",
       "      <td>0.846211</td>\n",
       "      <td>0.488558</td>\n",
       "      <td>...</td>\n",
       "      <td>0.349061</td>\n",
       "      <td>0.986111</td>\n",
       "      <td>0.389271</td>\n",
       "      <td>0.428010</td>\n",
       "      <td>0.645183</td>\n",
       "      <td>0.998789</td>\n",
       "      <td>0.805533</td>\n",
       "      <td>0.310009</td>\n",
       "      <td>0.876316</td>\n",
       "      <td>0.946936</td>\n",
       "    </tr>\n",
       "    <tr>\n",
       "      <th>...</th>\n",
       "      <td>...</td>\n",
       "      <td>...</td>\n",
       "      <td>...</td>\n",
       "      <td>...</td>\n",
       "      <td>...</td>\n",
       "      <td>...</td>\n",
       "      <td>...</td>\n",
       "      <td>...</td>\n",
       "      <td>...</td>\n",
       "      <td>...</td>\n",
       "      <td>...</td>\n",
       "      <td>...</td>\n",
       "      <td>...</td>\n",
       "      <td>...</td>\n",
       "      <td>...</td>\n",
       "      <td>...</td>\n",
       "      <td>...</td>\n",
       "      <td>...</td>\n",
       "      <td>...</td>\n",
       "      <td>...</td>\n",
       "      <td>...</td>\n",
       "    </tr>\n",
       "    <tr>\n",
       "      <th>99995</th>\n",
       "      <td>0.973490</td>\n",
       "      <td>0.631437</td>\n",
       "      <td>0.720622</td>\n",
       "      <td>0.141930</td>\n",
       "      <td>0.355449</td>\n",
       "      <td>0.638325</td>\n",
       "      <td>0.599268</td>\n",
       "      <td>0.267570</td>\n",
       "      <td>0.715158</td>\n",
       "      <td>0.909540</td>\n",
       "      <td>...</td>\n",
       "      <td>0.720632</td>\n",
       "      <td>0.069631</td>\n",
       "      <td>0.567910</td>\n",
       "      <td>0.373837</td>\n",
       "      <td>0.513205</td>\n",
       "      <td>0.318192</td>\n",
       "      <td>0.354705</td>\n",
       "      <td>0.785753</td>\n",
       "      <td>0.625627</td>\n",
       "      <td>0.893857</td>\n",
       "    </tr>\n",
       "    <tr>\n",
       "      <th>99996</th>\n",
       "      <td>0.704523</td>\n",
       "      <td>0.936341</td>\n",
       "      <td>0.711619</td>\n",
       "      <td>0.495312</td>\n",
       "      <td>0.029808</td>\n",
       "      <td>0.207772</td>\n",
       "      <td>0.673689</td>\n",
       "      <td>0.776497</td>\n",
       "      <td>0.871136</td>\n",
       "      <td>0.088103</td>\n",
       "      <td>...</td>\n",
       "      <td>0.636035</td>\n",
       "      <td>0.532702</td>\n",
       "      <td>0.744088</td>\n",
       "      <td>0.741955</td>\n",
       "      <td>0.967174</td>\n",
       "      <td>0.998244</td>\n",
       "      <td>0.632177</td>\n",
       "      <td>0.080062</td>\n",
       "      <td>0.289840</td>\n",
       "      <td>0.382859</td>\n",
       "    </tr>\n",
       "    <tr>\n",
       "      <th>99997</th>\n",
       "      <td>0.649755</td>\n",
       "      <td>0.352855</td>\n",
       "      <td>0.114277</td>\n",
       "      <td>0.826643</td>\n",
       "      <td>0.763885</td>\n",
       "      <td>0.168768</td>\n",
       "      <td>0.404275</td>\n",
       "      <td>0.079896</td>\n",
       "      <td>0.169630</td>\n",
       "      <td>0.953930</td>\n",
       "      <td>...</td>\n",
       "      <td>0.352673</td>\n",
       "      <td>0.635799</td>\n",
       "      <td>0.674737</td>\n",
       "      <td>0.290065</td>\n",
       "      <td>0.463327</td>\n",
       "      <td>0.358685</td>\n",
       "      <td>0.952076</td>\n",
       "      <td>0.979473</td>\n",
       "      <td>0.186088</td>\n",
       "      <td>0.000481</td>\n",
       "    </tr>\n",
       "    <tr>\n",
       "      <th>99998</th>\n",
       "      <td>0.975367</td>\n",
       "      <td>0.295327</td>\n",
       "      <td>0.642940</td>\n",
       "      <td>0.521112</td>\n",
       "      <td>0.592903</td>\n",
       "      <td>0.216556</td>\n",
       "      <td>0.203385</td>\n",
       "      <td>0.618827</td>\n",
       "      <td>0.191058</td>\n",
       "      <td>0.853803</td>\n",
       "      <td>...</td>\n",
       "      <td>0.229260</td>\n",
       "      <td>0.459856</td>\n",
       "      <td>0.601687</td>\n",
       "      <td>0.851845</td>\n",
       "      <td>0.740290</td>\n",
       "      <td>0.732748</td>\n",
       "      <td>0.416686</td>\n",
       "      <td>0.585025</td>\n",
       "      <td>0.785590</td>\n",
       "      <td>0.161383</td>\n",
       "    </tr>\n",
       "    <tr>\n",
       "      <th>99999</th>\n",
       "      <td>0.717863</td>\n",
       "      <td>0.281573</td>\n",
       "      <td>0.188958</td>\n",
       "      <td>0.903531</td>\n",
       "      <td>0.730933</td>\n",
       "      <td>0.826813</td>\n",
       "      <td>0.491981</td>\n",
       "      <td>0.364553</td>\n",
       "      <td>0.069016</td>\n",
       "      <td>0.354719</td>\n",
       "      <td>...</td>\n",
       "      <td>0.443628</td>\n",
       "      <td>0.101887</td>\n",
       "      <td>0.265541</td>\n",
       "      <td>0.134110</td>\n",
       "      <td>0.664314</td>\n",
       "      <td>0.536308</td>\n",
       "      <td>0.656200</td>\n",
       "      <td>0.041181</td>\n",
       "      <td>0.339916</td>\n",
       "      <td>0.646908</td>\n",
       "    </tr>\n",
       "  </tbody>\n",
       "</table>\n",
       "<p>100000 rows × 100 columns</p>\n",
       "</div>"
      ],
      "text/plain": [
       "             0         1         2         3         4         5         6   \\\n",
       "0      0.926538  0.382461  0.871469  0.761471  0.328826  0.988821  0.120738   \n",
       "1      0.715167  0.490948  0.904532  0.319521  0.582585  0.980330  0.019068   \n",
       "2      0.975796  0.049902  0.092684  0.158453  0.858309  0.652550  0.681106   \n",
       "3      0.369458  0.911366  0.892686  0.763454  0.581681  0.207756  0.024249   \n",
       "4      0.794953  0.714644  0.652743  0.639999  0.801813  0.223324  0.468607   \n",
       "...         ...       ...       ...       ...       ...       ...       ...   \n",
       "99995  0.973490  0.631437  0.720622  0.141930  0.355449  0.638325  0.599268   \n",
       "99996  0.704523  0.936341  0.711619  0.495312  0.029808  0.207772  0.673689   \n",
       "99997  0.649755  0.352855  0.114277  0.826643  0.763885  0.168768  0.404275   \n",
       "99998  0.975367  0.295327  0.642940  0.521112  0.592903  0.216556  0.203385   \n",
       "99999  0.717863  0.281573  0.188958  0.903531  0.730933  0.826813  0.491981   \n",
       "\n",
       "             7         8         9   ...        90        91        92  \\\n",
       "0      0.358905  0.954462  0.004711  ...  0.310465  0.816988  0.930747   \n",
       "1      0.089363  0.281105  0.143648  ...  0.433028  0.132540  0.263659   \n",
       "2      0.360168  0.843117  0.619341  ...  0.156821  0.772316  0.412088   \n",
       "3      0.925860  0.191849  0.047043  ...  0.313598  0.566552  0.844425   \n",
       "4      0.409739  0.846211  0.488558  ...  0.349061  0.986111  0.389271   \n",
       "...         ...       ...       ...  ...       ...       ...       ...   \n",
       "99995  0.267570  0.715158  0.909540  ...  0.720632  0.069631  0.567910   \n",
       "99996  0.776497  0.871136  0.088103  ...  0.636035  0.532702  0.744088   \n",
       "99997  0.079896  0.169630  0.953930  ...  0.352673  0.635799  0.674737   \n",
       "99998  0.618827  0.191058  0.853803  ...  0.229260  0.459856  0.601687   \n",
       "99999  0.364553  0.069016  0.354719  ...  0.443628  0.101887  0.265541   \n",
       "\n",
       "             93        94        95        96        97        98        99  \n",
       "0      0.111477  0.772517  0.801181  0.466825  0.005912  0.705110  0.487674  \n",
       "1      0.339079  0.234842  0.507921  0.544545  0.197424  0.432392  0.218104  \n",
       "2      0.796167  0.548580  0.722526  0.141587  0.459266  0.128221  0.661666  \n",
       "3      0.079068  0.338430  0.921877  0.856621  0.285027  0.505441  0.571166  \n",
       "4      0.428010  0.645183  0.998789  0.805533  0.310009  0.876316  0.946936  \n",
       "...         ...       ...       ...       ...       ...       ...       ...  \n",
       "99995  0.373837  0.513205  0.318192  0.354705  0.785753  0.625627  0.893857  \n",
       "99996  0.741955  0.967174  0.998244  0.632177  0.080062  0.289840  0.382859  \n",
       "99997  0.290065  0.463327  0.358685  0.952076  0.979473  0.186088  0.000481  \n",
       "99998  0.851845  0.740290  0.732748  0.416686  0.585025  0.785590  0.161383  \n",
       "99999  0.134110  0.664314  0.536308  0.656200  0.041181  0.339916  0.646908  \n",
       "\n",
       "[100000 rows x 100 columns]"
      ]
     },
     "execution_count": 12,
     "metadata": {},
     "output_type": "execute_result"
    }
   ],
   "source": [
    "df2"
   ]
  },
  {
   "cell_type": "code",
   "execution_count": 13,
   "id": "95842dac",
   "metadata": {},
   "outputs": [
    {
     "name": "stdout",
     "output_type": "stream",
     "text": [
      "119 ms ± 576 µs per loop (mean ± std. dev. of 7 runs, 10 loops each)\n"
     ]
    }
   ],
   "source": [
    "%timeit df1+df2+df3+df4"
   ]
  },
  {
   "cell_type": "code",
   "execution_count": 14,
   "id": "f5acd0fd",
   "metadata": {},
   "outputs": [
    {
     "name": "stdout",
     "output_type": "stream",
     "text": [
      "41.8 ms ± 1.31 ms per loop (mean ± std. dev. of 7 runs, 10 loops each)\n"
     ]
    }
   ],
   "source": [
    "%timeit pd.eval('df1+df2+df3+df4')"
   ]
  },
  {
   "cell_type": "markdown",
   "id": "b26aa7f8",
   "metadata": {},
   "source": [
    "**The eval() version of this expression is about 50% faster (and uses much less mem‐\n",
    "ory), while giving the same result:**"
   ]
  },
  {
   "cell_type": "code",
   "execution_count": 15,
   "id": "6ec3286e",
   "metadata": {},
   "outputs": [
    {
     "data": {
      "text/plain": [
       "True"
      ]
     },
     "execution_count": 15,
     "metadata": {},
     "output_type": "execute_result"
    }
   ],
   "source": [
    "np.allclose(df1+df2+df3+df4, pd.eval('df1+df2+df3+df4'))"
   ]
  },
  {
   "cell_type": "markdown",
   "id": "a6d62ee1",
   "metadata": {},
   "source": [
    "### Operations supported by pd.eval()\n",
    "As of Pandas v0.16, pd.eval() supports a wide range of operations. To demonstrate\n",
    "these, we’ll use the following integer DataFrames:"
   ]
  },
  {
   "cell_type": "code",
   "execution_count": 19,
   "id": "da523a9e",
   "metadata": {},
   "outputs": [],
   "source": [
    "# df1,df2,df3,df4,df5= (pd.DataFrame(rng.rand(0,1000,(100,3))) for i in range(5))\n",
    "df1, df2, df3, df4, df5 = (pd.DataFrame(rng.randint(0, 1000, (100, 3)))\n",
    "for i in range(5))"
   ]
  },
  {
   "cell_type": "code",
   "execution_count": 20,
   "id": "a2523058",
   "metadata": {},
   "outputs": [
    {
     "data": {
      "text/plain": [
       "True"
      ]
     },
     "execution_count": 20,
     "metadata": {},
     "output_type": "execute_result"
    }
   ],
   "source": [
    "# Arithematic operator\n",
    "result1=-df1*df2/(df3+df4)-df5\n",
    "result2=pd.eval('-df1*df2/(df3+df4)-df5')\n",
    "np.allclose(result1,result2)"
   ]
  },
  {
   "cell_type": "code",
   "execution_count": 21,
   "id": "1b6688e1",
   "metadata": {},
   "outputs": [
    {
     "data": {
      "text/plain": [
       "True"
      ]
     },
     "execution_count": 21,
     "metadata": {},
     "output_type": "execute_result"
    }
   ],
   "source": [
    "# Comparison operator \n",
    "result1= (df1<df2)& (df2<=df3)& (df4!=df5)\n",
    "reuslt2=pd.eval('(df1<df2)& (df2<=df3)& (df4!=df5)')\n",
    "np.allclose(result1,reuslt2)"
   ]
  },
  {
   "cell_type": "code",
   "execution_count": 23,
   "id": "61dff12e",
   "metadata": {},
   "outputs": [
    {
     "data": {
      "text/plain": [
       "True"
      ]
     },
     "execution_count": 23,
     "metadata": {},
     "output_type": "execute_result"
    }
   ],
   "source": [
    "# Bitwise operator\n",
    "result1= (df1<0.5)& (df2<=0.5)& (df4<df5)\n",
    "reuslt2=pd.eval('(df1<0.5)& (df2<=0.5)& (df4<df5)')\n",
    "np.allclose(result1,reuslt2)"
   ]
  },
  {
   "cell_type": "code",
   "execution_count": 24,
   "id": "ce753122",
   "metadata": {},
   "outputs": [
    {
     "data": {
      "text/plain": [
       "True"
      ]
     },
     "execution_count": 24,
     "metadata": {},
     "output_type": "execute_result"
    }
   ],
   "source": [
    "result1=df2.T[0] + df3.iloc[1]\n",
    "result2=pd.eval('df2.T[0] + df3.iloc[1]')\n",
    "np.allclose(result1,result2)"
   ]
  },
  {
   "cell_type": "markdown",
   "id": "0e60c4a2",
   "metadata": {},
   "source": [
    "## DataFrame.eval() for Column-Wise Operations\n",
    "Just as Pandas has a top-level pd.eval() function, DataFrames have an eval()\n",
    "method that works in similar ways. The benefit of the eval() method is that columns\n",
    "can be referred to by name."
   ]
  },
  {
   "cell_type": "code",
   "execution_count": 25,
   "id": "b212980a",
   "metadata": {},
   "outputs": [
    {
     "data": {
      "text/html": [
       "<div>\n",
       "<style scoped>\n",
       "    .dataframe tbody tr th:only-of-type {\n",
       "        vertical-align: middle;\n",
       "    }\n",
       "\n",
       "    .dataframe tbody tr th {\n",
       "        vertical-align: top;\n",
       "    }\n",
       "\n",
       "    .dataframe thead th {\n",
       "        text-align: right;\n",
       "    }\n",
       "</style>\n",
       "<table border=\"1\" class=\"dataframe\">\n",
       "  <thead>\n",
       "    <tr style=\"text-align: right;\">\n",
       "      <th></th>\n",
       "      <th>A</th>\n",
       "      <th>B</th>\n",
       "      <th>C</th>\n",
       "    </tr>\n",
       "  </thead>\n",
       "  <tbody>\n",
       "    <tr>\n",
       "      <th>0</th>\n",
       "      <td>0.375506</td>\n",
       "      <td>0.406939</td>\n",
       "      <td>0.069938</td>\n",
       "    </tr>\n",
       "    <tr>\n",
       "      <th>1</th>\n",
       "      <td>0.069087</td>\n",
       "      <td>0.235615</td>\n",
       "      <td>0.154374</td>\n",
       "    </tr>\n",
       "    <tr>\n",
       "      <th>2</th>\n",
       "      <td>0.677945</td>\n",
       "      <td>0.433839</td>\n",
       "      <td>0.652324</td>\n",
       "    </tr>\n",
       "    <tr>\n",
       "      <th>3</th>\n",
       "      <td>0.264038</td>\n",
       "      <td>0.808055</td>\n",
       "      <td>0.347197</td>\n",
       "    </tr>\n",
       "    <tr>\n",
       "      <th>4</th>\n",
       "      <td>0.589161</td>\n",
       "      <td>0.252418</td>\n",
       "      <td>0.557789</td>\n",
       "    </tr>\n",
       "  </tbody>\n",
       "</table>\n",
       "</div>"
      ],
      "text/plain": [
       "          A         B         C\n",
       "0  0.375506  0.406939  0.069938\n",
       "1  0.069087  0.235615  0.154374\n",
       "2  0.677945  0.433839  0.652324\n",
       "3  0.264038  0.808055  0.347197\n",
       "4  0.589161  0.252418  0.557789"
      ]
     },
     "execution_count": 25,
     "metadata": {},
     "output_type": "execute_result"
    }
   ],
   "source": [
    "df = pd.DataFrame(rng.rand(1000, 3), columns=['A', 'B', 'C'])\n",
    "df.head()"
   ]
  },
  {
   "cell_type": "markdown",
   "id": "6d4ab5c2",
   "metadata": {},
   "source": [
    "**Compute expression** "
   ]
  },
  {
   "cell_type": "code",
   "execution_count": 29,
   "id": "eb6e8893",
   "metadata": {},
   "outputs": [
    {
     "data": {
      "text/plain": [
       "True"
      ]
     },
     "execution_count": 29,
     "metadata": {},
     "output_type": "execute_result"
    }
   ],
   "source": [
    "\n",
    "result1=(df['A']+df['B'])/(df['C']-1)\n",
    "result2=pd.eval(\"(df.A+df.B)/(df.C-1)\")\n",
    "np.allclose(result1,result2)"
   ]
  },
  {
   "cell_type": "code",
   "execution_count": 31,
   "id": "9afa0f12",
   "metadata": {},
   "outputs": [
    {
     "data": {
      "text/plain": [
       "True"
      ]
     },
     "execution_count": 31,
     "metadata": {},
     "output_type": "execute_result"
    }
   ],
   "source": [
    "# The DataFrame.eval() method allows much more succinct evaluation of expressions with the columns:\n",
    "result3 = df.eval('(A + B) / (C - 1)')\n",
    "np.allclose(result1, result3)"
   ]
  },
  {
   "cell_type": "markdown",
   "id": "cd4c8b6a",
   "metadata": {},
   "source": [
    "**Assignment in DataFrame.eval()**\n",
    "In addition to the options just discussed, DataFrame.eval() also allows assignment\n",
    "to any column. Let’s use the DataFrame from before, which has columns 'A', 'B', and\n",
    "'C':"
   ]
  },
  {
   "cell_type": "code",
   "execution_count": 32,
   "id": "68204446",
   "metadata": {},
   "outputs": [
    {
     "data": {
      "text/html": [
       "<div>\n",
       "<style scoped>\n",
       "    .dataframe tbody tr th:only-of-type {\n",
       "        vertical-align: middle;\n",
       "    }\n",
       "\n",
       "    .dataframe tbody tr th {\n",
       "        vertical-align: top;\n",
       "    }\n",
       "\n",
       "    .dataframe thead th {\n",
       "        text-align: right;\n",
       "    }\n",
       "</style>\n",
       "<table border=\"1\" class=\"dataframe\">\n",
       "  <thead>\n",
       "    <tr style=\"text-align: right;\">\n",
       "      <th></th>\n",
       "      <th>A</th>\n",
       "      <th>B</th>\n",
       "      <th>C</th>\n",
       "    </tr>\n",
       "  </thead>\n",
       "  <tbody>\n",
       "    <tr>\n",
       "      <th>0</th>\n",
       "      <td>0.375506</td>\n",
       "      <td>0.406939</td>\n",
       "      <td>0.069938</td>\n",
       "    </tr>\n",
       "    <tr>\n",
       "      <th>1</th>\n",
       "      <td>0.069087</td>\n",
       "      <td>0.235615</td>\n",
       "      <td>0.154374</td>\n",
       "    </tr>\n",
       "    <tr>\n",
       "      <th>2</th>\n",
       "      <td>0.677945</td>\n",
       "      <td>0.433839</td>\n",
       "      <td>0.652324</td>\n",
       "    </tr>\n",
       "    <tr>\n",
       "      <th>3</th>\n",
       "      <td>0.264038</td>\n",
       "      <td>0.808055</td>\n",
       "      <td>0.347197</td>\n",
       "    </tr>\n",
       "    <tr>\n",
       "      <th>4</th>\n",
       "      <td>0.589161</td>\n",
       "      <td>0.252418</td>\n",
       "      <td>0.557789</td>\n",
       "    </tr>\n",
       "  </tbody>\n",
       "</table>\n",
       "</div>"
      ],
      "text/plain": [
       "          A         B         C\n",
       "0  0.375506  0.406939  0.069938\n",
       "1  0.069087  0.235615  0.154374\n",
       "2  0.677945  0.433839  0.652324\n",
       "3  0.264038  0.808055  0.347197\n",
       "4  0.589161  0.252418  0.557789"
      ]
     },
     "execution_count": 32,
     "metadata": {},
     "output_type": "execute_result"
    }
   ],
   "source": [
    "df.head()"
   ]
  },
  {
   "cell_type": "code",
   "execution_count": 33,
   "id": "ee58eb12",
   "metadata": {},
   "outputs": [
    {
     "data": {
      "text/html": [
       "<div>\n",
       "<style scoped>\n",
       "    .dataframe tbody tr th:only-of-type {\n",
       "        vertical-align: middle;\n",
       "    }\n",
       "\n",
       "    .dataframe tbody tr th {\n",
       "        vertical-align: top;\n",
       "    }\n",
       "\n",
       "    .dataframe thead th {\n",
       "        text-align: right;\n",
       "    }\n",
       "</style>\n",
       "<table border=\"1\" class=\"dataframe\">\n",
       "  <thead>\n",
       "    <tr style=\"text-align: right;\">\n",
       "      <th></th>\n",
       "      <th>A</th>\n",
       "      <th>B</th>\n",
       "      <th>C</th>\n",
       "      <th>D</th>\n",
       "    </tr>\n",
       "  </thead>\n",
       "  <tbody>\n",
       "    <tr>\n",
       "      <th>0</th>\n",
       "      <td>0.375506</td>\n",
       "      <td>0.406939</td>\n",
       "      <td>0.069938</td>\n",
       "      <td>11.187620</td>\n",
       "    </tr>\n",
       "    <tr>\n",
       "      <th>1</th>\n",
       "      <td>0.069087</td>\n",
       "      <td>0.235615</td>\n",
       "      <td>0.154374</td>\n",
       "      <td>1.973796</td>\n",
       "    </tr>\n",
       "    <tr>\n",
       "      <th>2</th>\n",
       "      <td>0.677945</td>\n",
       "      <td>0.433839</td>\n",
       "      <td>0.652324</td>\n",
       "      <td>1.704344</td>\n",
       "    </tr>\n",
       "    <tr>\n",
       "      <th>3</th>\n",
       "      <td>0.264038</td>\n",
       "      <td>0.808055</td>\n",
       "      <td>0.347197</td>\n",
       "      <td>3.087857</td>\n",
       "    </tr>\n",
       "    <tr>\n",
       "      <th>4</th>\n",
       "      <td>0.589161</td>\n",
       "      <td>0.252418</td>\n",
       "      <td>0.557789</td>\n",
       "      <td>1.508776</td>\n",
       "    </tr>\n",
       "  </tbody>\n",
       "</table>\n",
       "</div>"
      ],
      "text/plain": [
       "          A         B         C          D\n",
       "0  0.375506  0.406939  0.069938  11.187620\n",
       "1  0.069087  0.235615  0.154374   1.973796\n",
       "2  0.677945  0.433839  0.652324   1.704344\n",
       "3  0.264038  0.808055  0.347197   3.087857\n",
       "4  0.589161  0.252418  0.557789   1.508776"
      ]
     },
     "execution_count": 33,
     "metadata": {},
     "output_type": "execute_result"
    }
   ],
   "source": [
    "df.eval('D=(A+B)/C',inplace=True)\n",
    "df.head()"
   ]
  },
  {
   "cell_type": "code",
   "execution_count": 34,
   "id": "1ec90c01",
   "metadata": {},
   "outputs": [
    {
     "data": {
      "text/html": [
       "<div>\n",
       "<style scoped>\n",
       "    .dataframe tbody tr th:only-of-type {\n",
       "        vertical-align: middle;\n",
       "    }\n",
       "\n",
       "    .dataframe tbody tr th {\n",
       "        vertical-align: top;\n",
       "    }\n",
       "\n",
       "    .dataframe thead th {\n",
       "        text-align: right;\n",
       "    }\n",
       "</style>\n",
       "<table border=\"1\" class=\"dataframe\">\n",
       "  <thead>\n",
       "    <tr style=\"text-align: right;\">\n",
       "      <th></th>\n",
       "      <th>A</th>\n",
       "      <th>B</th>\n",
       "      <th>C</th>\n",
       "      <th>D</th>\n",
       "    </tr>\n",
       "  </thead>\n",
       "  <tbody>\n",
       "    <tr>\n",
       "      <th>0</th>\n",
       "      <td>0.375506</td>\n",
       "      <td>0.406939</td>\n",
       "      <td>0.069938</td>\n",
       "      <td>-0.449425</td>\n",
       "    </tr>\n",
       "    <tr>\n",
       "      <th>1</th>\n",
       "      <td>0.069087</td>\n",
       "      <td>0.235615</td>\n",
       "      <td>0.154374</td>\n",
       "      <td>-1.078728</td>\n",
       "    </tr>\n",
       "    <tr>\n",
       "      <th>2</th>\n",
       "      <td>0.677945</td>\n",
       "      <td>0.433839</td>\n",
       "      <td>0.652324</td>\n",
       "      <td>0.374209</td>\n",
       "    </tr>\n",
       "    <tr>\n",
       "      <th>3</th>\n",
       "      <td>0.264038</td>\n",
       "      <td>0.808055</td>\n",
       "      <td>0.347197</td>\n",
       "      <td>-1.566886</td>\n",
       "    </tr>\n",
       "    <tr>\n",
       "      <th>4</th>\n",
       "      <td>0.589161</td>\n",
       "      <td>0.252418</td>\n",
       "      <td>0.557789</td>\n",
       "      <td>0.603708</td>\n",
       "    </tr>\n",
       "  </tbody>\n",
       "</table>\n",
       "</div>"
      ],
      "text/plain": [
       "          A         B         C         D\n",
       "0  0.375506  0.406939  0.069938 -0.449425\n",
       "1  0.069087  0.235615  0.154374 -1.078728\n",
       "2  0.677945  0.433839  0.652324  0.374209\n",
       "3  0.264038  0.808055  0.347197 -1.566886\n",
       "4  0.589161  0.252418  0.557789  0.603708"
      ]
     },
     "execution_count": 34,
     "metadata": {},
     "output_type": "execute_result"
    }
   ],
   "source": [
    "df.eval('D = (A - B) / C', inplace=True)\n",
    "df.head()"
   ]
  },
  {
   "cell_type": "markdown",
   "id": "7472a3be",
   "metadata": {},
   "source": [
    "**Local variables in DataFrame.eval()**\n",
    "The DataFrame.eval() method supports an additional syntax that lets it work with\n",
    "local Python variables. Consider the following:"
   ]
  },
  {
   "cell_type": "code",
   "execution_count": 36,
   "id": "d4bec910",
   "metadata": {},
   "outputs": [
    {
     "data": {
      "text/plain": [
       "True"
      ]
     },
     "execution_count": 36,
     "metadata": {},
     "output_type": "execute_result"
    }
   ],
   "source": [
    "column_mean = df.mean(1)\n",
    "result1 = df['A'] + column_mean\n",
    "result2 = df.eval('A + @column_mean')\n",
    "np.allclose(result1, result2)"
   ]
  },
  {
   "cell_type": "markdown",
   "id": "de51e3d9",
   "metadata": {},
   "source": [
    "<hr>\n",
    "\n",
    "# DataFrame.query() Method\n",
    "The DataFrame has another method based on evaluated strings, called the query()\n",
    "method."
   ]
  },
  {
   "cell_type": "code",
   "execution_count": 37,
   "id": "ab0c004c",
   "metadata": {},
   "outputs": [
    {
     "data": {
      "text/plain": [
       "True"
      ]
     },
     "execution_count": 37,
     "metadata": {},
     "output_type": "execute_result"
    }
   ],
   "source": [
    "result1 = df[(df.A < 0.5) & (df.B < 0.5)]\n",
    "result2 = pd.eval('df[(df.A < 0.5) & (df.B < 0.5)]')\n",
    "np.allclose(result1, result2)"
   ]
  },
  {
   "cell_type": "markdown",
   "id": "e403e0f0",
   "metadata": {},
   "source": [
    "As with the example used in our discussion of DataFrame.eval(), this is an expres‐\n",
    "sion involving columns of the DataFrame. It cannot be expressed using the Data\n",
    "Frame.eval() syntax, however! Instead, for this type of filtering operation, you can\n",
    "use the query() method"
   ]
  },
  {
   "cell_type": "code",
   "execution_count": 38,
   "id": "07dbad74",
   "metadata": {},
   "outputs": [
    {
     "data": {
      "text/plain": [
       "True"
      ]
     },
     "execution_count": 38,
     "metadata": {},
     "output_type": "execute_result"
    }
   ],
   "source": [
    "result2 = df.query('A < 0.5 and B < 0.5')\n",
    "np.allclose(result1, result2)"
   ]
  },
  {
   "cell_type": "markdown",
   "id": "8ba3c464",
   "metadata": {},
   "source": [
    "*In addition to being a more efficient computation, compared to the masking expres‐\n",
    "sion this is much easier to read and understand. Note that the query() method also\n",
    "accepts the @ flag to mark local variables:*"
   ]
  },
  {
   "cell_type": "code",
   "execution_count": 39,
   "id": "385b2481",
   "metadata": {},
   "outputs": [
    {
     "data": {
      "text/plain": [
       "True"
      ]
     },
     "execution_count": 39,
     "metadata": {},
     "output_type": "execute_result"
    }
   ],
   "source": [
    "Cmean = df['C'].mean()\n",
    "result1 = df[(df.A < Cmean) & (df.B < Cmean)]\n",
    "result2 = df.query('A < @Cmean and B < @Cmean')\n",
    "np.allclose(result1, result2)"
   ]
  },
  {
   "cell_type": "markdown",
   "id": "028e79f6",
   "metadata": {},
   "source": [
    "<hr>\n",
    "<hr>"
   ]
  },
  {
   "cell_type": "markdown",
   "id": "a937e5d7",
   "metadata": {},
   "source": [
    "# Performance: When to Use These Functions\n",
    "When considering whether to use these functions, there are two considerations: com‐\n",
    "putation time and memory use. Memory use is the most predictable aspect. As already\n",
    "mentioned, every compound expression involving NumPy arrays or Pandas Data\n",
    "Frames will result in implicit creation of temporary arrays:"
   ]
  },
  {
   "cell_type": "markdown",
   "id": "d8412143",
   "metadata": {},
   "source": [
    "## This is the end of the Chapter 3: Data Manipulation in Pandas :) :) :)"
   ]
  },
  {
   "cell_type": "code",
   "execution_count": null,
   "id": "b1086227",
   "metadata": {},
   "outputs": [],
   "source": []
  }
 ],
 "metadata": {
  "kernelspec": {
   "display_name": "Python 3 (ipykernel)",
   "language": "python",
   "name": "python3"
  },
  "language_info": {
   "codemirror_mode": {
    "name": "ipython",
    "version": 3
   },
   "file_extension": ".py",
   "mimetype": "text/x-python",
   "name": "python",
   "nbconvert_exporter": "python",
   "pygments_lexer": "ipython3",
   "version": "3.9.12"
  }
 },
 "nbformat": 4,
 "nbformat_minor": 5
}
